{
 "cells": [
  {
   "cell_type": "code",
   "execution_count": 1,
   "id": "a594b50b",
   "metadata": {
    "id": "a594b50b"
   },
   "outputs": [],
   "source": [
    "# Import libraries\n",
    "import pandas as pd\n",
    "import numpy as np\n",
    "pd.set_option('max_colwidth', 400)\n",
    "import requests\n",
    "import matplotlib.pyplot as plt\n",
    "import json\n",
    "import re\n",
    "import warnings\n",
    "warnings.filterwarnings('ignore')\n",
    "from sklearn.model_selection import train_test_split\n",
    "from sklearn.preprocessing import StandardScaler\n",
    "import scipy.stats as stats\n",
    "import seaborn as sns"
   ]
  },
  {
   "cell_type": "code",
   "execution_count": 2,
   "id": "cdN1_yPe7FVR",
   "metadata": {
    "id": "cdN1_yPe7FVR"
   },
   "outputs": [],
   "source": [
    "# Read csv from raw github link and create dataframe\n",
    "url = 'https://raw.githubusercontent.com/dianeooty/datascience_salary/main/Resources/layoffs_cleaned.csv'\n",
    "layoffs_df = pd.read_csv(url)"
   ]
  },
  {
   "cell_type": "code",
   "execution_count": 3,
   "id": "HQvh_FQn487Z",
   "metadata": {
    "id": "HQvh_FQn487Z"
   },
   "outputs": [],
   "source": [
    "# Read csv from raw github link and create dataframe\n",
    "url = 'https://raw.githubusercontent.com/dianeooty/datascience_salary/main/Resources/salaries_cleaned.csv'\n",
    "salaries_df = pd.read_csv(url)"
   ]
  },
  {
   "cell_type": "code",
   "execution_count": 4,
   "id": "5b67625c",
   "metadata": {
    "colab": {
     "base_uri": "https://localhost:8080/"
    },
    "id": "5b67625c",
    "outputId": "faed99cd-2796-4cd8-be8f-baacb0918865"
   },
   "outputs": [
    {
     "name": "stdout",
     "output_type": "stream",
     "text": [
      "<class 'pandas.core.frame.DataFrame'>\n",
      "RangeIndex: 62642 entries, 0 to 62641\n",
      "Data columns (total 18 columns):\n",
      " #   Column                   Non-Null Count  Dtype  \n",
      "---  ------                   --------------  -----  \n",
      " 0   Unnamed: 0               62642 non-null  int64  \n",
      " 1   timestamp                62642 non-null  object \n",
      " 2   date                     62642 non-null  object \n",
      " 3   company                  62637 non-null  object \n",
      " 4   level                    62523 non-null  object \n",
      " 5   title                    62642 non-null  object \n",
      " 6   totalyearlycompensation  62642 non-null  int64  \n",
      " 7   location                 62642 non-null  object \n",
      " 8   latitude                 62642 non-null  float64\n",
      " 9   longitude                62642 non-null  float64\n",
      " 10  yearsofexperience        62642 non-null  float64\n",
      " 11  yearsatcompany           62642 non-null  float64\n",
      " 12  basesalary               62642 non-null  int64  \n",
      " 13  stockgrantvalue          62642 non-null  int64  \n",
      " 14  bonus                    62642 non-null  int64  \n",
      " 15  gender                   62642 non-null  object \n",
      " 16  Race                     62642 non-null  object \n",
      " 17  Education                62642 non-null  object \n",
      "dtypes: float64(4), int64(5), object(9)\n",
      "memory usage: 8.6+ MB\n"
     ]
    }
   ],
   "source": [
    "# View dataframe info\n",
    "salaries_df.info()"
   ]
  },
  {
   "cell_type": "code",
   "execution_count": 5,
   "id": "MPrx84-Ld9x8",
   "metadata": {
    "colab": {
     "base_uri": "https://localhost:8080/"
    },
    "id": "MPrx84-Ld9x8",
    "outputId": "8d92729e-9809-4572-e09d-2955e5731139"
   },
   "outputs": [
    {
     "name": "stdout",
     "output_type": "stream",
     "text": [
      "<class 'pandas.core.frame.DataFrame'>\n",
      "RangeIndex: 2545 entries, 0 to 2544\n",
      "Data columns (total 9 columns):\n",
      " #   Column               Non-Null Count  Dtype  \n",
      "---  ------               --------------  -----  \n",
      " 0   Unnamed: 0           2545 non-null   int64  \n",
      " 1   company              2545 non-null   object \n",
      " 2   location             2545 non-null   object \n",
      " 3   industry             2543 non-null   object \n",
      " 4   total_laid_off       2545 non-null   int64  \n",
      " 5   percentage_laid_off  1694 non-null   float64\n",
      " 6   date                 2543 non-null   object \n",
      " 7   stage                2539 non-null   object \n",
      " 8   country              2545 non-null   object \n",
      "dtypes: float64(1), int64(2), object(6)\n",
      "memory usage: 179.1+ KB\n"
     ]
    }
   ],
   "source": [
    "# Check dataframe's info\n",
    "layoffs_df.info()"
   ]
  },
  {
   "cell_type": "code",
   "execution_count": 6,
   "id": "2367d849",
   "metadata": {},
   "outputs": [
    {
     "data": {
      "text/html": [
       "<div>\n",
       "<style scoped>\n",
       "    .dataframe tbody tr th:only-of-type {\n",
       "        vertical-align: middle;\n",
       "    }\n",
       "\n",
       "    .dataframe tbody tr th {\n",
       "        vertical-align: top;\n",
       "    }\n",
       "\n",
       "    .dataframe thead th {\n",
       "        text-align: right;\n",
       "    }\n",
       "</style>\n",
       "<table border=\"1\" class=\"dataframe\">\n",
       "  <thead>\n",
       "    <tr style=\"text-align: right;\">\n",
       "      <th></th>\n",
       "      <th>timestamp</th>\n",
       "      <th>date</th>\n",
       "      <th>company</th>\n",
       "      <th>level</th>\n",
       "      <th>title</th>\n",
       "      <th>totalyearlycompensation</th>\n",
       "      <th>location</th>\n",
       "      <th>latitude</th>\n",
       "      <th>longitude</th>\n",
       "      <th>yearsofexperience</th>\n",
       "      <th>yearsatcompany</th>\n",
       "      <th>basesalary</th>\n",
       "      <th>stockgrantvalue</th>\n",
       "      <th>bonus</th>\n",
       "      <th>gender</th>\n",
       "      <th>Race</th>\n",
       "      <th>Education</th>\n",
       "    </tr>\n",
       "  </thead>\n",
       "  <tbody>\n",
       "    <tr>\n",
       "      <th>0</th>\n",
       "      <td>2017-06-07 11:33:00</td>\n",
       "      <td>2017-06-07 00:00:00</td>\n",
       "      <td>Oracle</td>\n",
       "      <td>L3</td>\n",
       "      <td>Product Manager</td>\n",
       "      <td>127000</td>\n",
       "      <td>Redwood City, CA</td>\n",
       "      <td>37.486324</td>\n",
       "      <td>-122.232523</td>\n",
       "      <td>1.5</td>\n",
       "      <td>1.5</td>\n",
       "      <td>107000</td>\n",
       "      <td>20000</td>\n",
       "      <td>10000</td>\n",
       "      <td>Unknown</td>\n",
       "      <td>Unknown</td>\n",
       "      <td>Unknown</td>\n",
       "    </tr>\n",
       "    <tr>\n",
       "      <th>1</th>\n",
       "      <td>2017-06-10 17:11:00</td>\n",
       "      <td>2017-06-10 00:00:00</td>\n",
       "      <td>eBay</td>\n",
       "      <td>SE 2</td>\n",
       "      <td>Software Engineer</td>\n",
       "      <td>100000</td>\n",
       "      <td>San Francisco, CA</td>\n",
       "      <td>37.779026</td>\n",
       "      <td>-122.419906</td>\n",
       "      <td>5.0</td>\n",
       "      <td>3.0</td>\n",
       "      <td>0</td>\n",
       "      <td>0</td>\n",
       "      <td>0</td>\n",
       "      <td>Unknown</td>\n",
       "      <td>Unknown</td>\n",
       "      <td>Unknown</td>\n",
       "    </tr>\n",
       "    <tr>\n",
       "      <th>2</th>\n",
       "      <td>2017-06-11 14:53:00</td>\n",
       "      <td>2017-06-11 00:00:00</td>\n",
       "      <td>Amazon</td>\n",
       "      <td>L7</td>\n",
       "      <td>Product Manager</td>\n",
       "      <td>310000</td>\n",
       "      <td>Seattle, WA</td>\n",
       "      <td>47.603832</td>\n",
       "      <td>-122.330062</td>\n",
       "      <td>8.0</td>\n",
       "      <td>0.0</td>\n",
       "      <td>155000</td>\n",
       "      <td>0</td>\n",
       "      <td>0</td>\n",
       "      <td>Unknown</td>\n",
       "      <td>Unknown</td>\n",
       "      <td>Unknown</td>\n",
       "    </tr>\n",
       "    <tr>\n",
       "      <th>3</th>\n",
       "      <td>2017-06-17 00:23:00</td>\n",
       "      <td>2017-06-17 00:00:00</td>\n",
       "      <td>Apple</td>\n",
       "      <td>M1</td>\n",
       "      <td>Software Engineering Manager</td>\n",
       "      <td>372000</td>\n",
       "      <td>Sunnyvale, CA</td>\n",
       "      <td>37.368830</td>\n",
       "      <td>-122.036349</td>\n",
       "      <td>7.0</td>\n",
       "      <td>5.0</td>\n",
       "      <td>157000</td>\n",
       "      <td>180000</td>\n",
       "      <td>35000</td>\n",
       "      <td>Unknown</td>\n",
       "      <td>Unknown</td>\n",
       "      <td>Unknown</td>\n",
       "    </tr>\n",
       "    <tr>\n",
       "      <th>4</th>\n",
       "      <td>2017-06-20 10:58:00</td>\n",
       "      <td>2017-06-20 00:00:00</td>\n",
       "      <td>Microsoft</td>\n",
       "      <td>60</td>\n",
       "      <td>Software Engineer</td>\n",
       "      <td>157000</td>\n",
       "      <td>Mountain View, CA</td>\n",
       "      <td>37.389389</td>\n",
       "      <td>-122.083210</td>\n",
       "      <td>5.0</td>\n",
       "      <td>3.0</td>\n",
       "      <td>0</td>\n",
       "      <td>0</td>\n",
       "      <td>0</td>\n",
       "      <td>Unknown</td>\n",
       "      <td>Unknown</td>\n",
       "      <td>Unknown</td>\n",
       "    </tr>\n",
       "  </tbody>\n",
       "</table>\n",
       "</div>"
      ],
      "text/plain": [
       "             timestamp                 date    company level  \\\n",
       "0  2017-06-07 11:33:00  2017-06-07 00:00:00     Oracle    L3   \n",
       "1  2017-06-10 17:11:00  2017-06-10 00:00:00       eBay  SE 2   \n",
       "2  2017-06-11 14:53:00  2017-06-11 00:00:00     Amazon    L7   \n",
       "3  2017-06-17 00:23:00  2017-06-17 00:00:00      Apple    M1   \n",
       "4  2017-06-20 10:58:00  2017-06-20 00:00:00  Microsoft    60   \n",
       "\n",
       "                          title  totalyearlycompensation           location  \\\n",
       "0               Product Manager                   127000   Redwood City, CA   \n",
       "1             Software Engineer                   100000  San Francisco, CA   \n",
       "2               Product Manager                   310000        Seattle, WA   \n",
       "3  Software Engineering Manager                   372000      Sunnyvale, CA   \n",
       "4             Software Engineer                   157000  Mountain View, CA   \n",
       "\n",
       "    latitude   longitude  yearsofexperience  yearsatcompany  basesalary  \\\n",
       "0  37.486324 -122.232523                1.5             1.5      107000   \n",
       "1  37.779026 -122.419906                5.0             3.0           0   \n",
       "2  47.603832 -122.330062                8.0             0.0      155000   \n",
       "3  37.368830 -122.036349                7.0             5.0      157000   \n",
       "4  37.389389 -122.083210                5.0             3.0           0   \n",
       "\n",
       "   stockgrantvalue  bonus   gender     Race Education  \n",
       "0            20000  10000  Unknown  Unknown   Unknown  \n",
       "1                0      0  Unknown  Unknown   Unknown  \n",
       "2                0      0  Unknown  Unknown   Unknown  \n",
       "3           180000  35000  Unknown  Unknown   Unknown  \n",
       "4                0      0  Unknown  Unknown   Unknown  "
      ]
     },
     "execution_count": 6,
     "metadata": {},
     "output_type": "execute_result"
    }
   ],
   "source": [
    "# Drop unamed column\n",
    "salaries_df = salaries_df.drop(columns='Unnamed: 0')\n",
    "salaries_df.head()"
   ]
  },
  {
   "cell_type": "code",
   "execution_count": 7,
   "id": "8555f709",
   "metadata": {},
   "outputs": [
    {
     "data": {
      "text/html": [
       "<div>\n",
       "<style scoped>\n",
       "    .dataframe tbody tr th:only-of-type {\n",
       "        vertical-align: middle;\n",
       "    }\n",
       "\n",
       "    .dataframe tbody tr th {\n",
       "        vertical-align: top;\n",
       "    }\n",
       "\n",
       "    .dataframe thead th {\n",
       "        text-align: right;\n",
       "    }\n",
       "</style>\n",
       "<table border=\"1\" class=\"dataframe\">\n",
       "  <thead>\n",
       "    <tr style=\"text-align: right;\">\n",
       "      <th></th>\n",
       "      <th>company</th>\n",
       "      <th>location</th>\n",
       "      <th>industry</th>\n",
       "      <th>total_laid_off</th>\n",
       "      <th>percentage_laid_off</th>\n",
       "      <th>date</th>\n",
       "      <th>stage</th>\n",
       "      <th>country</th>\n",
       "    </tr>\n",
       "  </thead>\n",
       "  <tbody>\n",
       "    <tr>\n",
       "      <th>0</th>\n",
       "      <td>N26</td>\n",
       "      <td>Berlin</td>\n",
       "      <td>Finance</td>\n",
       "      <td>71</td>\n",
       "      <td>4.0</td>\n",
       "      <td>2023-04-28</td>\n",
       "      <td>Series E</td>\n",
       "      <td>United States</td>\n",
       "    </tr>\n",
       "    <tr>\n",
       "      <th>1</th>\n",
       "      <td>Providoor</td>\n",
       "      <td>Melbourne</td>\n",
       "      <td>Food</td>\n",
       "      <td>0</td>\n",
       "      <td>100.0</td>\n",
       "      <td>2023-04-28</td>\n",
       "      <td>Unknown</td>\n",
       "      <td>Australia</td>\n",
       "    </tr>\n",
       "    <tr>\n",
       "      <th>2</th>\n",
       "      <td>Dropbox</td>\n",
       "      <td>SF Bay Area</td>\n",
       "      <td>Other</td>\n",
       "      <td>500</td>\n",
       "      <td>16.0</td>\n",
       "      <td>2023-04-27</td>\n",
       "      <td>Post-IPO</td>\n",
       "      <td>United States</td>\n",
       "    </tr>\n",
       "    <tr>\n",
       "      <th>3</th>\n",
       "      <td>Vroom</td>\n",
       "      <td>New York City</td>\n",
       "      <td>Transportation</td>\n",
       "      <td>120</td>\n",
       "      <td>11.0</td>\n",
       "      <td>2023-04-27</td>\n",
       "      <td>Post-IPO</td>\n",
       "      <td>United States</td>\n",
       "    </tr>\n",
       "    <tr>\n",
       "      <th>4</th>\n",
       "      <td>Greenhouse</td>\n",
       "      <td>New York City</td>\n",
       "      <td>Recruiting</td>\n",
       "      <td>100</td>\n",
       "      <td>12.0</td>\n",
       "      <td>2023-04-27</td>\n",
       "      <td>Private Equity</td>\n",
       "      <td>United States</td>\n",
       "    </tr>\n",
       "  </tbody>\n",
       "</table>\n",
       "</div>"
      ],
      "text/plain": [
       "      company       location        industry  total_laid_off  \\\n",
       "0         N26         Berlin         Finance              71   \n",
       "1   Providoor      Melbourne            Food               0   \n",
       "2     Dropbox    SF Bay Area           Other             500   \n",
       "3       Vroom  New York City  Transportation             120   \n",
       "4  Greenhouse  New York City      Recruiting             100   \n",
       "\n",
       "   percentage_laid_off        date           stage        country  \n",
       "0                  4.0  2023-04-28        Series E  United States  \n",
       "1                100.0  2023-04-28         Unknown      Australia  \n",
       "2                 16.0  2023-04-27        Post-IPO  United States  \n",
       "3                 11.0  2023-04-27        Post-IPO  United States  \n",
       "4                 12.0  2023-04-27  Private Equity  United States  "
      ]
     },
     "execution_count": 7,
     "metadata": {},
     "output_type": "execute_result"
    }
   ],
   "source": [
    "# Drop unamed column\n",
    "layoffs_df = layoffs_df.drop(columns='Unnamed: 0')\n",
    "layoffs_df.head()"
   ]
  },
  {
   "cell_type": "markdown",
   "id": "24fccc6d",
   "metadata": {},
   "source": [
    "# Correlation"
   ]
  },
  {
   "cell_type": "code",
   "execution_count": 8,
   "id": "5eD1U8h7OFen",
   "metadata": {
    "colab": {
     "base_uri": "https://localhost:8080/",
     "height": 300
    },
    "id": "5eD1U8h7OFen",
    "outputId": "96889eee-69b2-4d3c-f37b-b3993c844b4a"
   },
   "outputs": [
    {
     "data": {
      "text/html": [
       "<div>\n",
       "<style scoped>\n",
       "    .dataframe tbody tr th:only-of-type {\n",
       "        vertical-align: middle;\n",
       "    }\n",
       "\n",
       "    .dataframe tbody tr th {\n",
       "        vertical-align: top;\n",
       "    }\n",
       "\n",
       "    .dataframe thead th {\n",
       "        text-align: right;\n",
       "    }\n",
       "</style>\n",
       "<table border=\"1\" class=\"dataframe\">\n",
       "  <thead>\n",
       "    <tr style=\"text-align: right;\">\n",
       "      <th></th>\n",
       "      <th>totalyearlycompensation</th>\n",
       "      <th>latitude</th>\n",
       "      <th>longitude</th>\n",
       "      <th>yearsofexperience</th>\n",
       "      <th>yearsatcompany</th>\n",
       "      <th>basesalary</th>\n",
       "      <th>stockgrantvalue</th>\n",
       "      <th>bonus</th>\n",
       "    </tr>\n",
       "  </thead>\n",
       "  <tbody>\n",
       "    <tr>\n",
       "      <th>totalyearlycompensation</th>\n",
       "      <td>1.000000</td>\n",
       "      <td>0.142647</td>\n",
       "      <td>-0.355284</td>\n",
       "      <td>0.422879</td>\n",
       "      <td>0.165802</td>\n",
       "      <td>0.672865</td>\n",
       "      <td>0.770756</td>\n",
       "      <td>0.489454</td>\n",
       "    </tr>\n",
       "    <tr>\n",
       "      <th>latitude</th>\n",
       "      <td>0.142647</td>\n",
       "      <td>1.000000</td>\n",
       "      <td>-0.507834</td>\n",
       "      <td>0.009778</td>\n",
       "      <td>0.022753</td>\n",
       "      <td>0.168056</td>\n",
       "      <td>0.079644</td>\n",
       "      <td>0.061682</td>\n",
       "    </tr>\n",
       "    <tr>\n",
       "      <th>longitude</th>\n",
       "      <td>-0.355284</td>\n",
       "      <td>-0.507834</td>\n",
       "      <td>1.000000</td>\n",
       "      <td>-0.024003</td>\n",
       "      <td>-0.030682</td>\n",
       "      <td>-0.422624</td>\n",
       "      <td>-0.203133</td>\n",
       "      <td>-0.129335</td>\n",
       "    </tr>\n",
       "    <tr>\n",
       "      <th>yearsofexperience</th>\n",
       "      <td>0.422879</td>\n",
       "      <td>0.009778</td>\n",
       "      <td>-0.024003</td>\n",
       "      <td>1.000000</td>\n",
       "      <td>0.522611</td>\n",
       "      <td>0.374437</td>\n",
       "      <td>0.289631</td>\n",
       "      <td>0.261051</td>\n",
       "    </tr>\n",
       "    <tr>\n",
       "      <th>yearsatcompany</th>\n",
       "      <td>0.165802</td>\n",
       "      <td>0.022753</td>\n",
       "      <td>-0.030682</td>\n",
       "      <td>0.522611</td>\n",
       "      <td>1.000000</td>\n",
       "      <td>0.145596</td>\n",
       "      <td>0.089492</td>\n",
       "      <td>0.108122</td>\n",
       "    </tr>\n",
       "    <tr>\n",
       "      <th>basesalary</th>\n",
       "      <td>0.672865</td>\n",
       "      <td>0.168056</td>\n",
       "      <td>-0.422624</td>\n",
       "      <td>0.374437</td>\n",
       "      <td>0.145596</td>\n",
       "      <td>1.000000</td>\n",
       "      <td>0.468266</td>\n",
       "      <td>0.394352</td>\n",
       "    </tr>\n",
       "    <tr>\n",
       "      <th>stockgrantvalue</th>\n",
       "      <td>0.770756</td>\n",
       "      <td>0.079644</td>\n",
       "      <td>-0.203133</td>\n",
       "      <td>0.289631</td>\n",
       "      <td>0.089492</td>\n",
       "      <td>0.468266</td>\n",
       "      <td>1.000000</td>\n",
       "      <td>0.248151</td>\n",
       "    </tr>\n",
       "    <tr>\n",
       "      <th>bonus</th>\n",
       "      <td>0.489454</td>\n",
       "      <td>0.061682</td>\n",
       "      <td>-0.129335</td>\n",
       "      <td>0.261051</td>\n",
       "      <td>0.108122</td>\n",
       "      <td>0.394352</td>\n",
       "      <td>0.248151</td>\n",
       "      <td>1.000000</td>\n",
       "    </tr>\n",
       "  </tbody>\n",
       "</table>\n",
       "</div>"
      ],
      "text/plain": [
       "                         totalyearlycompensation  latitude  longitude  \\\n",
       "totalyearlycompensation                 1.000000  0.142647  -0.355284   \n",
       "latitude                                0.142647  1.000000  -0.507834   \n",
       "longitude                              -0.355284 -0.507834   1.000000   \n",
       "yearsofexperience                       0.422879  0.009778  -0.024003   \n",
       "yearsatcompany                          0.165802  0.022753  -0.030682   \n",
       "basesalary                              0.672865  0.168056  -0.422624   \n",
       "stockgrantvalue                         0.770756  0.079644  -0.203133   \n",
       "bonus                                   0.489454  0.061682  -0.129335   \n",
       "\n",
       "                         yearsofexperience  yearsatcompany  basesalary  \\\n",
       "totalyearlycompensation           0.422879        0.165802    0.672865   \n",
       "latitude                          0.009778        0.022753    0.168056   \n",
       "longitude                        -0.024003       -0.030682   -0.422624   \n",
       "yearsofexperience                 1.000000        0.522611    0.374437   \n",
       "yearsatcompany                    0.522611        1.000000    0.145596   \n",
       "basesalary                        0.374437        0.145596    1.000000   \n",
       "stockgrantvalue                   0.289631        0.089492    0.468266   \n",
       "bonus                             0.261051        0.108122    0.394352   \n",
       "\n",
       "                         stockgrantvalue     bonus  \n",
       "totalyearlycompensation         0.770756  0.489454  \n",
       "latitude                        0.079644  0.061682  \n",
       "longitude                      -0.203133 -0.129335  \n",
       "yearsofexperience               0.289631  0.261051  \n",
       "yearsatcompany                  0.089492  0.108122  \n",
       "basesalary                      0.468266  0.394352  \n",
       "stockgrantvalue                 1.000000  0.248151  \n",
       "bonus                           0.248151  1.000000  "
      ]
     },
     "execution_count": 8,
     "metadata": {},
     "output_type": "execute_result"
    }
   ],
   "source": [
    "# find all corr for num\n",
    "salaries_corr = salaries_df.corr()\n",
    "salaries_corr "
   ]
  },
  {
   "cell_type": "code",
   "execution_count": 9,
   "id": "342ccceb",
   "metadata": {},
   "outputs": [],
   "source": [
    "#drop the unrelated columns\n",
    "salaries_corr = salaries_corr.drop(columns=['latitude', \"longitude\", \"basesalary\", 'stockgrantvalue', 'bonus'])"
   ]
  },
  {
   "cell_type": "code",
   "execution_count": 10,
   "id": "69220430",
   "metadata": {},
   "outputs": [],
   "source": [
    "#drop the unrelated index\n",
    "salaries_corr = salaries_corr.drop(index=['latitude', \"longitude\", \"basesalary\", 'stockgrantvalue', 'bonus'])"
   ]
  },
  {
   "cell_type": "code",
   "execution_count": 11,
   "id": "4ddcfa1a",
   "metadata": {},
   "outputs": [
    {
     "data": {
      "text/plain": [
       "<AxesSubplot:>"
      ]
     },
     "execution_count": 11,
     "metadata": {},
     "output_type": "execute_result"
    },
    {
     "data": {
      "image/png": "[encoded data removed]",
      "text/plain": [
       "<Figure size 640x480 with 2 Axes>"
      ]
     },
     "metadata": {},
     "output_type": "display_data"
    }
   ],
   "source": [
    "#heatmap for correlation\n",
    "sns.heatmap(salaries_corr, cmap = \"BrBG\",annot=True)"
   ]
  },
  {
   "cell_type": "code",
   "execution_count": 12,
   "id": "a7446974",
   "metadata": {},
   "outputs": [
    {
     "data": {
      "image/png": "[encoded data removed]",
      "text/plain": [
       "<Figure size 1200x800 with 1 Axes>"
      ]
     },
     "metadata": {},
     "output_type": "display_data"
    }
   ],
   "source": [
    "# plot the year compensation vs experiences\n",
    "plt.figure(figsize=(12,8))\n",
    "sns.regplot(x=salaries_df[\"yearsofexperience\"], y=salaries_df[\"totalyearlycompensation\"], line_kws = {\"color\": \"red\"})\n",
    "plt.title(\"Experience vs Total Compensation\", size=17)\n",
    "plt.xlabel(\"Experience\", size=12)\n",
    "plt.ylabel(\"Total Compensation\", size=12)\n",
    "#plt.text(60, 5000000, \"annotation\")\n",
    "plt.show()"
   ]
  },
  {
   "cell_type": "markdown",
   "id": "641c935f",
   "metadata": {},
   "source": [
    "Function for statistically analysis "
   ]
  },
  {
   "cell_type": "code",
   "execution_count": 13,
   "id": "156b1645",
   "metadata": {},
   "outputs": [],
   "source": [
    "# create a function for p-value statistically significant analysis with 0.5 \n",
    "def pvalue_stat(pval, a=.05):\n",
    "    if pval<a :\n",
    "        return f\"{pval} ({pval:0.6f}) is Statistically Significant (reject the null hypothesis)\"\n",
    "    return f\"{pval} ({pval:0.6f}) is Statistically Non-Significant (failed to reject the null hypothesis)\""
   ]
  },
  {
   "cell_type": "markdown",
   "id": "e6e5d403",
   "metadata": {},
   "source": [
    "# Gender"
   ]
  },
  {
   "cell_type": "code",
   "execution_count": 14,
   "id": "IcV5Apjfq9jb",
   "metadata": {
    "colab": {
     "base_uri": "https://localhost:8080/",
     "height": 294
    },
    "id": "IcV5Apjfq9jb",
    "outputId": "bc89e383-16f1-40ad-f3df-ed215314b4ef"
   },
   "outputs": [
    {
     "data": {
      "text/plain": [
       "Male       35702\n",
       "Unknown    19541\n",
       "Female      6999\n",
       "Other        400\n",
       "Name: gender, dtype: int64"
      ]
     },
     "execution_count": 14,
     "metadata": {},
     "output_type": "execute_result"
    }
   ],
   "source": [
    "# Gender value count\n",
    "gender = salaries_df[\"gender\"].value_counts()\n",
    "gender"
   ]
  },
  {
   "cell_type": "code",
   "execution_count": 15,
   "id": "5ff298dc",
   "metadata": {},
   "outputs": [],
   "source": [
    "# Creating Group for Anova\n",
    "female = salaries_df[salaries_df[\"gender\"]== \"Female\"][\"totalyearlycompensation\"]\n",
    "male = salaries_df[salaries_df[\"gender\"]== \"Male\"][\"totalyearlycompensation\"]"
   ]
  },
  {
   "cell_type": "code",
   "execution_count": 16,
   "id": "96a9049b",
   "metadata": {},
   "outputs": [
    {
     "data": {
      "text/plain": [
       "F_onewayResult(statistic=97.03653044197561, pvalue=7.199280899773692e-23)"
      ]
     },
     "execution_count": 16,
     "metadata": {},
     "output_type": "execute_result"
    }
   ],
   "source": [
    "# perform anova test\n",
    "ret = stats.f_oneway(female, male)\n",
    "ret"
   ]
  },
  {
   "cell_type": "code",
   "execution_count": 17,
   "id": "d999deb3",
   "metadata": {},
   "outputs": [
    {
     "data": {
      "text/plain": [
       "[97.03653044197561, 7.199280899773692e-23]"
      ]
     },
     "execution_count": 17,
     "metadata": {},
     "output_type": "execute_result"
    }
   ],
   "source": [
    "list(ret)"
   ]
  },
  {
   "cell_type": "code",
   "execution_count": 18,
   "id": "6028f422",
   "metadata": {},
   "outputs": [
    {
     "data": {
      "text/plain": [
       "'7.199280899773692e-23 (0.000000) is Statistically Significant (reject the null hypothesis)'"
      ]
     },
     "execution_count": 18,
     "metadata": {},
     "output_type": "execute_result"
    }
   ],
   "source": [
    "#result\n",
    "pvalue_stat(ret[1])"
   ]
  },
  {
   "cell_type": "code",
   "execution_count": 19,
   "id": "629cf075",
   "metadata": {},
   "outputs": [],
   "source": [
    "# remove unknow & other for plot\n",
    "gender_plot = salaries_df.loc[(salaries_df[\"gender\"] != \"Unknown\") & (salaries_df[\"gender\"] != \"Other\")]"
   ]
  },
  {
   "cell_type": "code",
   "execution_count": 20,
   "id": "14f4f0df",
   "metadata": {},
   "outputs": [
    {
     "data": {
      "image/png": "[encoded data removed]",
      "text/plain": [
       "<Figure size 640x480 with 1 Axes>"
      ]
     },
     "metadata": {},
     "output_type": "display_data"
    }
   ],
   "source": [
    "#plot the boxplot for gender\n",
    "plot = sns.boxplot(x=\"totalyearlycompensation\", y=\"gender\", data=gender_plot,\n",
    "             width=.6, palette=\"vlag\")"
   ]
  },
  {
   "cell_type": "code",
   "execution_count": 21,
   "id": "8a7c058d",
   "metadata": {},
   "outputs": [
    {
     "name": "stdout",
     "output_type": "stream",
     "text": [
      "The lower quartile of female is: 132000.0\n",
      "The upper quartile of female is: 232000.0\n",
      "The interquartile range of female is: 100000.0\n",
      "The the median of female is: 175000.0 \n",
      "Values below -18000.0 could be outliers.\n",
      "Values above 382000.0 could be outliers.\n"
     ]
    }
   ],
   "source": [
    "# female quantiles, quartiles, and outliers\n",
    "quartiles = female.quantile([.25,.5,.75])\n",
    "lowerq = quartiles[0.25]\n",
    "upperq = quartiles[0.75]\n",
    "iqr = upperq-lowerq\n",
    "\n",
    "print(f\"The lower quartile of female is: {lowerq}\")\n",
    "print(f\"The upper quartile of female is: {upperq}\")\n",
    "print(f\"The interquartile range of female is: {iqr}\")\n",
    "print(f\"The the median of female is: {quartiles[0.5]} \")\n",
    "\n",
    "lower_bound = lowerq - (1.5*iqr)\n",
    "upper_bound = upperq + (1.5*iqr)\n",
    "print(f\"Values below {lower_bound} could be outliers.\")\n",
    "print(f\"Values above {upper_bound} could be outliers.\")"
   ]
  },
  {
   "cell_type": "code",
   "execution_count": 22,
   "id": "d190a338",
   "metadata": {},
   "outputs": [
    {
     "name": "stdout",
     "output_type": "stream",
     "text": [
      "The lower quartile of male is: 130000.0\n",
      "The upper quartile of male is: 260000.0\n",
      "The interquartile range of male is: 130000.0\n",
      "The the median of male is: 185000.0 \n",
      "Values below -65000.0 could be outliers.\n",
      "Values above 455000.0 could be outliers.\n"
     ]
    }
   ],
   "source": [
    "# male quantiles, quartiles, and outliers\n",
    "quartiles = male.quantile([.25,.5,.75])\n",
    "lowerq = quartiles[0.25]\n",
    "upperq = quartiles[0.75]\n",
    "iqr = upperq-lowerq\n",
    "\n",
    "print(f\"The lower quartile of male is: {lowerq}\")\n",
    "print(f\"The upper quartile of male is: {upperq}\")\n",
    "print(f\"The interquartile range of male is: {iqr}\")\n",
    "print(f\"The the median of male is: {quartiles[0.5]} \")\n",
    "\n",
    "lower_bound = lowerq - (1.5*iqr)\n",
    "upper_bound = upperq + (1.5*iqr)\n",
    "print(f\"Values below {lower_bound} could be outliers.\")\n",
    "print(f\"Values above {upper_bound} could be outliers.\")"
   ]
  },
  {
   "cell_type": "markdown",
   "id": "1c325d80",
   "metadata": {},
   "source": [
    "# Race"
   ]
  },
  {
   "cell_type": "code",
   "execution_count": 23,
   "id": "d6025972",
   "metadata": {},
   "outputs": [
    {
     "data": {
      "text/plain": [
       "Unknown        40215\n",
       "Asian          11772\n",
       "White           8032\n",
       "Hispanic        1129\n",
       "Two Or More      804\n",
       "Black            690\n",
       "Name: Race, dtype: int64"
      ]
     },
     "execution_count": 23,
     "metadata": {},
     "output_type": "execute_result"
    }
   ],
   "source": [
    "race = salaries_df[\"Race\"].value_counts()\n",
    "race"
   ]
  },
  {
   "cell_type": "code",
   "execution_count": 24,
   "id": "e64df05d",
   "metadata": {},
   "outputs": [],
   "source": [
    "# Creating Group for Anova\n",
    "asian = salaries_df[salaries_df[\"Race\"]== \"Asian\"][\"totalyearlycompensation\"]\n",
    "black = salaries_df[salaries_df[\"Race\"]== \"Black\"][\"totalyearlycompensation\"]\n",
    "hispanic = salaries_df[salaries_df[\"Race\"]== \"Hispanic\"][\"totalyearlycompensation\"]\n",
    "two_or_more = salaries_df[salaries_df[\"Race\"]== \"Two Or More\"][\"totalyearlycompensation\"]\n",
    "white = salaries_df[salaries_df[\"Race\"]== \"White\"][\"totalyearlycompensation\"]"
   ]
  },
  {
   "cell_type": "code",
   "execution_count": 25,
   "id": "271030a7",
   "metadata": {},
   "outputs": [
    {
     "data": {
      "text/plain": [
       "F_onewayResult(statistic=15.76566761913388, pvalue=6.862083786426721e-13)"
      ]
     },
     "execution_count": 25,
     "metadata": {},
     "output_type": "execute_result"
    }
   ],
   "source": [
    "# perform anova test\n",
    "ret = stats.f_oneway(asian, black, hispanic, two_or_more, white)\n",
    "ret"
   ]
  },
  {
   "cell_type": "code",
   "execution_count": 26,
   "id": "fb67fb95",
   "metadata": {},
   "outputs": [
    {
     "data": {
      "text/plain": [
       "[15.76566761913388, 6.862083786426721e-13]"
      ]
     },
     "execution_count": 26,
     "metadata": {},
     "output_type": "execute_result"
    }
   ],
   "source": [
    "list(ret)"
   ]
  },
  {
   "cell_type": "code",
   "execution_count": 27,
   "id": "aa454b7b",
   "metadata": {},
   "outputs": [
    {
     "data": {
      "text/plain": [
       "'6.862083786426721e-13 (0.000000) is Statistically Significant (reject the null hypothesis)'"
      ]
     },
     "execution_count": 27,
     "metadata": {},
     "output_type": "execute_result"
    }
   ],
   "source": [
    "# result\n",
    "pvalue_stat(ret[1])"
   ]
  },
  {
   "cell_type": "code",
   "execution_count": 28,
   "id": "28296e5e",
   "metadata": {},
   "outputs": [
    {
     "data": {
      "image/png": "[encoded data removed]",
      "text/plain": [
       "<Figure size 640x480 with 1 Axes>"
      ]
     },
     "metadata": {},
     "output_type": "display_data"
    }
   ],
   "source": [
    "# remove unknow from plot\n",
    "salaries_race = salaries_df.loc[salaries_df[\"Race\"]!= \"Unknown\"]\n",
    "#plot the boxplot for race\n",
    "plot = sns.boxplot(x=\"totalyearlycompensation\", y=\"Race\", data=salaries_race,\n",
    "         width=.6, palette=\"vlag\")"
   ]
  },
  {
   "cell_type": "code",
   "execution_count": 29,
   "id": "d9dff29c",
   "metadata": {},
   "outputs": [
    {
     "name": "stdout",
     "output_type": "stream",
     "text": [
      "The lower quartile of white is: 120000.0\n",
      "The upper quartile of white is: 250000.0\n",
      "The interquartile range of white is: 130000.0\n",
      "The the median of white is: 175000.0 \n",
      "Values below -75000.0 could be outliers.\n",
      "Values above 445000.0 could be outliers.\n"
     ]
    }
   ],
   "source": [
    "# white quantiles, quartiles, and outliers\n",
    "quartiles = white.quantile([.25,.5,.75])\n",
    "lowerq = quartiles[0.25]\n",
    "upperq = quartiles[0.75]\n",
    "iqr = upperq-lowerq\n",
    "\n",
    "print(f\"The lower quartile of white is: {lowerq}\")\n",
    "print(f\"The upper quartile of white is: {upperq}\")\n",
    "print(f\"The interquartile range of white is: {iqr}\")\n",
    "print(f\"The the median of white is: {quartiles[0.5]} \")\n",
    "\n",
    "lower_bound = lowerq - (1.5*iqr)\n",
    "upper_bound = upperq + (1.5*iqr)\n",
    "print(f\"Values below {lower_bound} could be outliers.\")\n",
    "print(f\"Values above {upper_bound} could be outliers.\")"
   ]
  },
  {
   "cell_type": "code",
   "execution_count": 30,
   "id": "ef3e9374",
   "metadata": {},
   "outputs": [
    {
     "name": "stdout",
     "output_type": "stream",
     "text": [
      "The lower quartile of asian is: 115000.0\n",
      "The upper quartile of asian is: 243000.0\n",
      "The interquartile range of asian is: 128000.0\n",
      "The the median of asian is: 174000.0 \n",
      "Values below -77000.0 could be outliers.\n",
      "Values above 435000.0 could be outliers.\n"
     ]
    }
   ],
   "source": [
    "# asian quantiles, quartiles, and outliers\n",
    "quartiles = asian.quantile([.25,.5,.75])\n",
    "lowerq = quartiles[0.25]\n",
    "upperq = quartiles[0.75]\n",
    "iqr = upperq-lowerq\n",
    "\n",
    "print(f\"The lower quartile of asian is: {lowerq}\")\n",
    "print(f\"The upper quartile of asian is: {upperq}\")\n",
    "print(f\"The interquartile range of asian is: {iqr}\")\n",
    "print(f\"The the median of asian is: {quartiles[0.5]} \")\n",
    "\n",
    "lower_bound = lowerq - (1.5*iqr)\n",
    "upper_bound = upperq + (1.5*iqr)\n",
    "print(f\"Values below {lower_bound} could be outliers.\")\n",
    "print(f\"Values above {upper_bound} could be outliers.\")"
   ]
  },
  {
   "cell_type": "code",
   "execution_count": 31,
   "id": "47905914",
   "metadata": {},
   "outputs": [
    {
     "name": "stdout",
     "output_type": "stream",
     "text": [
      "The lower quartile of Hispanic is: 120000.0\n",
      "The upper quartile of Hispanic is: 230000.0\n",
      "The interquartile range of Hispanic is: 110000.0\n",
      "The the median of Hispanic is: 166000.0 \n",
      "Values below -45000.0 could be outliers.\n",
      "Values above 395000.0 could be outliers.\n"
     ]
    }
   ],
   "source": [
    "# Hispanic quantiles, quartiles, and outliers\n",
    "quartiles = hispanic.quantile([.25,.5,.75])\n",
    "lowerq = quartiles[0.25]\n",
    "upperq = quartiles[0.75]\n",
    "iqr = upperq-lowerq\n",
    "\n",
    "print(f\"The lower quartile of Hispanic is: {lowerq}\")\n",
    "print(f\"The upper quartile of Hispanic is: {upperq}\")\n",
    "print(f\"The interquartile range of Hispanic is: {iqr}\")\n",
    "print(f\"The the median of Hispanic is: {quartiles[0.5]} \")\n",
    "\n",
    "lower_bound = lowerq - (1.5*iqr)\n",
    "upper_bound = upperq + (1.5*iqr)\n",
    "print(f\"Values below {lower_bound} could be outliers.\")\n",
    "print(f\"Values above {upper_bound} could be outliers.\")"
   ]
  },
  {
   "cell_type": "code",
   "execution_count": 32,
   "id": "a2ec989f",
   "metadata": {},
   "outputs": [
    {
     "name": "stdout",
     "output_type": "stream",
     "text": [
      "The lower quartile of Two or More is: 123750.0\n",
      "The upper quartile of Two or More is: 248000.0\n",
      "The interquartile range of Two or More is: 124250.0\n",
      "The the median of Two or More is: 173500.0 \n",
      "Values below -62625.0 could be outliers.\n",
      "Values above 434375.0 could be outliers.\n"
     ]
    }
   ],
   "source": [
    "# Two or More quantiles, quartiles, and outliers\n",
    "quartiles = two_or_more.quantile([.25,.5,.75])\n",
    "lowerq = quartiles[0.25]\n",
    "upperq = quartiles[0.75]\n",
    "iqr = upperq-lowerq\n",
    "\n",
    "print(f\"The lower quartile of Two or More is: {lowerq}\")\n",
    "print(f\"The upper quartile of Two or More is: {upperq}\")\n",
    "print(f\"The interquartile range of Two or More is: {iqr}\")\n",
    "print(f\"The the median of Two or More is: {quartiles[0.5]} \")\n",
    "\n",
    "lower_bound = lowerq - (1.5*iqr)\n",
    "upper_bound = upperq + (1.5*iqr)\n",
    "print(f\"Values below {lower_bound} could be outliers.\")\n",
    "print(f\"Values above {upper_bound} could be outliers.\")"
   ]
  },
  {
   "cell_type": "code",
   "execution_count": 33,
   "id": "c6fb8cc7",
   "metadata": {},
   "outputs": [
    {
     "name": "stdout",
     "output_type": "stream",
     "text": [
      "The lower quartile of Black is: 110000.0\n",
      "The upper quartile of Black is: 215000.0\n",
      "The interquartile range of Black is: 105000.0\n",
      "The the median of Black is: 158000.0 \n",
      "Values below -47500.0 could be outliers.\n",
      "Values above 372500.0 could be outliers.\n"
     ]
    }
   ],
   "source": [
    "# Black quantiles, quartiles, and outliers\n",
    "quartiles = black.quantile([.25,.5,.75])\n",
    "lowerq = quartiles[0.25]\n",
    "upperq = quartiles[0.75]\n",
    "iqr = upperq-lowerq\n",
    "\n",
    "print(f\"The lower quartile of Black is: {lowerq}\")\n",
    "print(f\"The upper quartile of Black is: {upperq}\")\n",
    "print(f\"The interquartile range of Black is: {iqr}\")\n",
    "print(f\"The the median of Black is: {quartiles[0.5]} \")\n",
    "\n",
    "lower_bound = lowerq - (1.5*iqr)\n",
    "upper_bound = upperq + (1.5*iqr)\n",
    "print(f\"Values below {lower_bound} could be outliers.\")\n",
    "print(f\"Values above {upper_bound} could be outliers.\")"
   ]
  },
  {
   "cell_type": "markdown",
   "id": "25723b93",
   "metadata": {},
   "source": [
    "# Education"
   ]
  },
  {
   "cell_type": "code",
   "execution_count": 34,
   "id": "b32858aa",
   "metadata": {},
   "outputs": [
    {
     "data": {
      "text/plain": [
       "Unknown              32272\n",
       "Master's Degree      15391\n",
       "Bachelor's Degree    12601\n",
       "PhD                   1703\n",
       "Some College           355\n",
       "Highschool             320\n",
       "Name: Education, dtype: int64"
      ]
     },
     "execution_count": 34,
     "metadata": {},
     "output_type": "execute_result"
    }
   ],
   "source": [
    "education = salaries_df[\"Education\"].value_counts()\n",
    "education"
   ]
  },
  {
   "cell_type": "code",
   "execution_count": 35,
   "id": "16c76b66",
   "metadata": {},
   "outputs": [],
   "source": [
    "# Creating Group for Anova\n",
    "master = salaries_df[salaries_df[\"Education\"]== \"Master's Degree\"][\"totalyearlycompensation\"]\n",
    "bachelor = salaries_df[salaries_df[\"Education\"]== \"Bachelor's Degree\"][\"totalyearlycompensation\"]\n",
    "phd = salaries_df[salaries_df[\"Education\"]== \"PhD\"][\"totalyearlycompensation\"]\n",
    "some_college = salaries_df[salaries_df[\"Education\"]== \"Some College\"][\"totalyearlycompensation\"]\n",
    "highschool = salaries_df[salaries_df[\"Education\"]== \"Highschool\"][\"totalyearlycompensation\"]"
   ]
  },
  {
   "cell_type": "code",
   "execution_count": 36,
   "id": "0be888e6",
   "metadata": {},
   "outputs": [
    {
     "data": {
      "text/plain": [
       "F_onewayResult(statistic=380.1272370203267, pvalue=4.86e-320)"
      ]
     },
     "execution_count": 36,
     "metadata": {},
     "output_type": "execute_result"
    }
   ],
   "source": [
    "# perform anova test\n",
    "ret = stats.f_oneway(master, bachelor, phd, some_college, highschool)\n",
    "ret"
   ]
  },
  {
   "cell_type": "code",
   "execution_count": 37,
   "id": "4d809d85",
   "metadata": {},
   "outputs": [
    {
     "data": {
      "text/plain": [
       "[380.1272370203267, 4.86e-320]"
      ]
     },
     "execution_count": 37,
     "metadata": {},
     "output_type": "execute_result"
    }
   ],
   "source": [
    "list(ret)"
   ]
  },
  {
   "cell_type": "code",
   "execution_count": 38,
   "id": "c53b7a9c",
   "metadata": {},
   "outputs": [
    {
     "data": {
      "text/plain": [
       "'4.86e-320 (0.000000) is Statistically Significant (reject the null hypothesis)'"
      ]
     },
     "execution_count": 38,
     "metadata": {},
     "output_type": "execute_result"
    }
   ],
   "source": [
    "# result\n",
    "pvalue_stat(ret[1])"
   ]
  },
  {
   "cell_type": "code",
   "execution_count": 39,
   "id": "fed30b88",
   "metadata": {},
   "outputs": [
    {
     "data": {
      "image/png": "[encoded data removed]",
      "text/plain": [
       "<Figure size 640x480 with 1 Axes>"
      ]
     },
     "metadata": {},
     "output_type": "display_data"
    }
   ],
   "source": [
    "# remove unknow from plot\n",
    "salaries_edu = salaries_df.loc[salaries_df[\"Education\"]!= \"Unknown\"]\n",
    "#plot the boxplot for education\n",
    "plot = sns.boxplot(x=\"totalyearlycompensation\", y=\"Education\", data=salaries_edu,\n",
    "             width=.6, palette=\"vlag\")"
   ]
  },
  {
   "cell_type": "code",
   "execution_count": 40,
   "id": "696e8c38",
   "metadata": {},
   "outputs": [
    {
     "name": "stdout",
     "output_type": "stream",
     "text": [
      "The lower quartile of PhD is: 193000.0\n",
      "The upper quartile of PhD is: 350000.0\n",
      "The interquartile range of PhD is: 157000.0\n",
      "The the median of PhD is: 253000.0 \n",
      "Values below -42500.0 could be outliers.\n",
      "Values above 585500.0 could be outliers.\n"
     ]
    }
   ],
   "source": [
    "# PhD quantiles, quartiles, and outliers\n",
    "quartiles = phd.quantile([.25,.5,.75])\n",
    "lowerq = quartiles[0.25]\n",
    "upperq = quartiles[0.75]\n",
    "iqr = upperq-lowerq\n",
    "\n",
    "print(f\"The lower quartile of PhD is: {lowerq}\")\n",
    "print(f\"The upper quartile of PhD is: {upperq}\")\n",
    "print(f\"The interquartile range of PhD is: {iqr}\")\n",
    "print(f\"The the median of PhD is: {quartiles[0.5]} \")\n",
    "\n",
    "lower_bound = lowerq - (1.5*iqr)\n",
    "upper_bound = upperq + (1.5*iqr)\n",
    "print(f\"Values below {lower_bound} could be outliers.\")\n",
    "print(f\"Values above {upper_bound} could be outliers.\")"
   ]
  },
  {
   "cell_type": "code",
   "execution_count": 41,
   "id": "71ea7ecc",
   "metadata": {},
   "outputs": [
    {
     "name": "stdout",
     "output_type": "stream",
     "text": [
      "The lower quartile of Master's Degree is: 143000.0\n",
      "The upper quartile of Master's Degree is: 267000.0\n",
      "The interquartile range of Master's Degree is: 124000.0\n",
      "The the median of Master's Degree is: 195000.0 \n",
      "Values below -43000.0 could be outliers.\n",
      "Values above 453000.0 could be outliers.\n"
     ]
    }
   ],
   "source": [
    "# Master's Degree quantiles, quartiles, and outliers\n",
    "quartiles = master.quantile([.25,.5,.75])\n",
    "lowerq = quartiles[0.25]\n",
    "upperq = quartiles[0.75]\n",
    "iqr = upperq-lowerq\n",
    "\n",
    "print(f\"The lower quartile of Master's Degree is: {lowerq}\")\n",
    "print(f\"The upper quartile of Master's Degree is: {upperq}\")\n",
    "print(f\"The interquartile range of Master's Degree is: {iqr}\")\n",
    "print(f\"The the median of Master's Degree is: {quartiles[0.5]} \")\n",
    "\n",
    "lower_bound = lowerq - (1.5*iqr)\n",
    "upper_bound = upperq + (1.5*iqr)\n",
    "print(f\"Values below {lower_bound} could be outliers.\")\n",
    "print(f\"Values above {upper_bound} could be outliers.\")"
   ]
  },
  {
   "cell_type": "code",
   "execution_count": 42,
   "id": "17d7be64",
   "metadata": {},
   "outputs": [
    {
     "name": "stdout",
     "output_type": "stream",
     "text": [
      "The lower quartile of Bachelor's Degree is: 100000.0\n",
      "The upper quartile of Bachelor's Degree is: 223000.0\n",
      "The interquartile range of Bachelor's Degree is: 123000.0\n",
      "The the median of Bachelor's Degree is: 156000.0 \n",
      "Values below -84500.0 could be outliers.\n",
      "Values above 407500.0 could be outliers.\n"
     ]
    }
   ],
   "source": [
    "# Bachelor's Degree quantiles, quartiles, and outliers\n",
    "quartiles = bachelor.quantile([.25,.5,.75])\n",
    "lowerq = quartiles[0.25]\n",
    "upperq = quartiles[0.75]\n",
    "iqr = upperq-lowerq\n",
    "\n",
    "print(f\"The lower quartile of Bachelor's Degree is: {lowerq}\")\n",
    "print(f\"The upper quartile of Bachelor's Degree is: {upperq}\")\n",
    "print(f\"The interquartile range of Bachelor's Degree is: {iqr}\")\n",
    "print(f\"The the median of Bachelor's Degree is: {quartiles[0.5]} \")\n",
    "\n",
    "lower_bound = lowerq - (1.5*iqr)\n",
    "upper_bound = upperq + (1.5*iqr)\n",
    "print(f\"Values below {lower_bound} could be outliers.\")\n",
    "print(f\"Values above {upper_bound} could be outliers.\")"
   ]
  },
  {
   "cell_type": "code",
   "execution_count": 43,
   "id": "8c1536e2",
   "metadata": {},
   "outputs": [
    {
     "name": "stdout",
     "output_type": "stream",
     "text": [
      "The lower quartile of Some College is: 120000.0\n",
      "The upper quartile of Some College is: 271000.0\n",
      "The interquartile range of Some College is: 151000.0\n",
      "The the median of Some College is: 173000.0 \n",
      "Values below -106500.0 could be outliers.\n",
      "Values above 497500.0 could be outliers.\n"
     ]
    }
   ],
   "source": [
    "# Some College quantiles, quartiles, and outliers\n",
    "quartiles = some_college.quantile([.25,.5,.75])\n",
    "lowerq = quartiles[0.25]\n",
    "upperq = quartiles[0.75]\n",
    "iqr = upperq-lowerq\n",
    "\n",
    "print(f\"The lower quartile of Some College is: {lowerq}\")\n",
    "print(f\"The upper quartile of Some College is: {upperq}\")\n",
    "print(f\"The interquartile range of Some College is: {iqr}\")\n",
    "print(f\"The the median of Some College is: {quartiles[0.5]} \")\n",
    "\n",
    "lower_bound = lowerq - (1.5*iqr)\n",
    "upper_bound = upperq + (1.5*iqr)\n",
    "print(f\"Values below {lower_bound} could be outliers.\")\n",
    "print(f\"Values above {upper_bound} could be outliers.\")"
   ]
  },
  {
   "cell_type": "code",
   "execution_count": 44,
   "id": "9d95dec2",
   "metadata": {},
   "outputs": [
    {
     "name": "stdout",
     "output_type": "stream",
     "text": [
      "The lower quartile of Highschool is: 105750.0\n",
      "The upper quartile of Highschool is: 243250.0\n",
      "The interquartile range of Highschool is: 137500.0\n",
      "The the median of Highschool is: 162500.0 \n",
      "Values below -100500.0 could be outliers.\n",
      "Values above 449500.0 could be outliers.\n"
     ]
    }
   ],
   "source": [
    "# Highschool quantiles, quartiles, and outliers\n",
    "quartiles = highschool.quantile([.25,.5,.75])\n",
    "lowerq = quartiles[0.25]\n",
    "upperq = quartiles[0.75]\n",
    "iqr = upperq-lowerq\n",
    "\n",
    "print(f\"The lower quartile of Highschool is: {lowerq}\")\n",
    "print(f\"The upper quartile of Highschool is: {upperq}\")\n",
    "print(f\"The interquartile range of Highschool is: {iqr}\")\n",
    "print(f\"The the median of Highschool is: {quartiles[0.5]} \")\n",
    "\n",
    "lower_bound = lowerq - (1.5*iqr)\n",
    "upper_bound = upperq + (1.5*iqr)\n",
    "print(f\"Values below {lower_bound} could be outliers.\")\n",
    "print(f\"Values above {upper_bound} could be outliers.\")"
   ]
  }
 ],
 "metadata": {
  "colab": {
   "provenance": []
  },
  "kernelspec": {
   "display_name": "PythonData",
   "language": "python",
   "name": "pythondata"
  },
  "language_info": {
   "codemirror_mode": {
    "name": "ipython",
    "version": 3
   },
   "file_extension": ".py",
   "mimetype": "text/x-python",
   "name": "python",
   "nbconvert_exporter": "python",
   "pygments_lexer": "ipython3",
   "version": "3.9.13"
  }
 },
 "nbformat": 4,
 "nbformat_minor": 5
}
